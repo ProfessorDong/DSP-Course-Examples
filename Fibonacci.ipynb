{
  "nbformat": 4,
  "nbformat_minor": 0,
  "metadata": {
    "colab": {
      "provenance": [],
      "authorship_tag": "ABX9TyMJbL+MxjUdHYb5F5F6RLLI",
      "include_colab_link": true
    },
    "kernelspec": {
      "name": "python3",
      "display_name": "Python 3"
    },
    "language_info": {
      "name": "python"
    }
  },
  "cells": [
    {
      "cell_type": "markdown",
      "metadata": {
        "id": "view-in-github",
        "colab_type": "text"
      },
      "source": [
        "<a href=\"https://colab.research.google.com/github/ProfessorDong/DSP-Course-Examples/blob/master/Fibonacci.ipynb\" target=\"_parent\"><img src=\"https://colab.research.google.com/assets/colab-badge.svg\" alt=\"Open In Colab\"/></a>"
      ]
    },
    {
      "cell_type": "code",
      "execution_count": 3,
      "metadata": {
        "colab": {
          "base_uri": "https://localhost:8080/"
        },
        "id": "igALOQ1x7gzM",
        "outputId": "4ccb1b7d-ec19-460c-eac0-07599143856b"
      },
      "outputs": [
        {
          "output_type": "stream",
          "name": "stdout",
          "text": [
            "Fibonacci sequence: [0, 1, 1, 2, 3, 5, 8, 13, 21, 34, 55, 89, 144, 233, 377, 610, 987, 1597, 2584, 4181]\n",
            "Golden ratio: [0, 1.0, 2.0, 1.5, 1.6666666666666667, 1.6, 1.625, 1.6153846153846154, 1.619047619047619, 1.6176470588235294, 1.6181818181818182, 1.6179775280898876, 1.6180555555555556, 1.6180257510729614, 1.6180371352785146, 1.618032786885246, 1.618034447821682, 1.6180338134001253, 1.618034055727554]\n"
          ]
        }
      ],
      "source": [
        "def fibonacci_sequence(n):\n",
        "    \"\"\"Generate the first n numbers in the Fibonacci sequence.\"\"\"\n",
        "    sequence = [0, 1]\n",
        "    for i in range(2, n):\n",
        "        sequence.append(sequence[i-1] + sequence[i-2])\n",
        "    return sequence\n",
        "\n",
        "def golden_ratio(n):\n",
        "    \"\"\"Calculate the golden ratio for the first n numbers in the Fibonacci sequence.\"\"\"\n",
        "    sequence = fibonacci_sequence(n)\n",
        "    ratios = []\n",
        "    for i in range(1, len(sequence)):\n",
        "        if sequence[i-1] == 0:\n",
        "            ratios.append(0)\n",
        "        else:\n",
        "            ratios.append(sequence[i] / sequence[i-1])\n",
        "    return ratios\n",
        "\n",
        "\n",
        "n = 20  # Generate the first 20 numbers in the sequence\n",
        "fib_seq = fibonacci_sequence(n)\n",
        "print(\"Fibonacci sequence:\", fib_seq)\n",
        "\n",
        "ratios = golden_ratio(n)\n",
        "print(\"Golden ratio:\", ratios)\n"
      ]
    }
  ]
}